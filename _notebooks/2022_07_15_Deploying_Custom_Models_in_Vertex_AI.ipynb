{
  "nbformat": 4,
  "nbformat_minor": 0,
  "metadata": {
    "colab": {
      "name": "2022-07-15-Deploying-Custom-Models-in-Vertex-AI.ipynb",
      "provenance": []
    },
    "kernelspec": {
      "name": "python3",
      "display_name": "Python 3"
    },
    "language_info": {
      "name": "python"
    }
  },
  "cells": [
    {
      "cell_type": "markdown",
      "source": [
        "\n",
        "# Deploying Custom Models in Vertex AI \n",
        "\n",
        "*   toc: true\n",
        "*   badges: true\n",
        "*   comments: true\n",
        "*   categories: [jupyter]\n",
        "*   image: images/vertex.png\n",
        "\n",
        "\n",
        "\n",
        "\n",
        "\n"
      ],
      "metadata": {
        "id": "Ay8f3IRydGka"
      }
    },
    {
      "cell_type": "code",
      "execution_count": null,
      "metadata": {
        "id": "ZiqtEs3idBrr"
      },
      "outputs": [],
      "source": [
        ""
      ]
    }
  ]
}